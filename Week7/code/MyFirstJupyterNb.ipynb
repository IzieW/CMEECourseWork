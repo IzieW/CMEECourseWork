{
 "cells": [
  {
   "cell_type": "markdown",
   "id": "16e68d48",
   "metadata": {},
   "source": [
    "# My first Jupyter Notebook"
   ]
  },
  {
   "cell_type": "markdown",
   "id": "f7542bad",
   "metadata": {},
   "source": [
    "Can be used for writing equations:"
   ]
  },
  {
   "cell_type": "markdown",
   "id": "c5d5b6b9",
   "metadata": {},
   "source": [
    "$$\n",
    "    \\frac{dN}{dt} = rN \\left( 1-\\frac{N}{K}\\right)\n",
    "$$"
   ]
  },
  {
   "cell_type": "markdown",
   "id": "946007ca",
   "metadata": {},
   "source": [
    "or any type of code:"
   ]
  },
  {
   "cell_type": "code",
   "execution_count": 1,
   "id": "7d56d807",
   "metadata": {
    "scrolled": true
   },
   "outputs": [
    {
     "name": "stdout",
     "output_type": "stream",
     "text": [
      "[1] \"This is python!\"\n"
     ]
    }
   ],
   "source": [
    "a = \"This is python!\"; print(a)"
   ]
  },
  {
   "cell_type": "code",
   "execution_count": 2,
   "id": "4279eaf0",
   "metadata": {},
   "outputs": [
    {
     "name": "stdout",
     "output_type": "stream",
     "text": [
      "this is R!"
     ]
    }
   ],
   "source": [
    "a <- \"this is R!\"; cat(a)"
   ]
  },
  {
   "cell_type": "code",
   "execution_count": 3,
   "id": "9aad81d0",
   "metadata": {
    "scrolled": true
   },
   "outputs": [
    {
     "ename": "ERROR",
     "evalue": "Error in parse(text = x, srcfile = src): <text>:1:8: unexpected symbol\n1: import matplotlib.pyplot\n           ^\n",
     "output_type": "error",
     "traceback": [
      "Error in parse(text = x, srcfile = src): <text>:1:8: unexpected symbol\n1: import matplotlib.pyplot\n           ^\nTraceback:\n"
     ]
    }
   ],
   "source": [
    "import matplotlib.pyplot as p\n",
    "import scipy as sc\n",
    "\n",
    "x = sc.arange(0, 5, 0.1); y = sc.sin(x)\n",
    "p.plot(x, y); p.show()"
   ]
  },
  {
   "cell_type": "code",
   "execution_count": 4,
   "id": "4577ae04",
   "metadata": {},
   "outputs": [
    {
     "name": "stderr",
     "output_type": "stream",
     "text": [
      "Loading required package: ggplot2\n",
      "\n"
     ]
    },
    {
     "data": {
      "image/png": "[encoded data removed]",
      "text/plain": [
       "plot without title"
      ]
     },
     "metadata": {
      "image/png": {
       "height": 150,
       "width": 198
      }
     },
     "output_type": "display_data"
    }
   ],
   "source": [
    "require(ggplot2)\n",
    "library(repr) # to resize plot within jupyter - this package is part f IRKernel\n",
    "options(repr.plot.width=3.3, repr.plot.height=2.5)\n",
    "\n",
    "x <- seq(0, 5, 0.1); y <- sin(x)\n",
    "qplot(x, y, geom=\"line\") #large figure"
   ]
  }
 ],
 "metadata": {
  "kernelspec": {
   "display_name": "R",
   "language": "R",
   "name": "ir"
  },
  "language_info": {
   "codemirror_mode": "r",
   "file_extension": ".r",
   "mimetype": "text/x-r-source",
   "name": "R",
   "pygments_lexer": "r",
   "version": "4.1.2"
  }
 },
 "nbformat": 4,
 "nbformat_minor": 5
}
